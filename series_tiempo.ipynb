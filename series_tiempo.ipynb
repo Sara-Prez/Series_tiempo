{
 "cells": [
  {
   "cell_type": "markdown",
   "id": "f74275de-62b7-412d-a221-bdf6c6a4c762",
   "metadata": {
    "tags": []
   },
   "source": [
    "# Series de tiempo\n",
    "\n",
    "**Sara Berenice Pérez Ramírez** \n",
    "\n",
    "___\n",
    "\n",
    "\n",
    "\n",
    "\n",
    "\n",
    "\n",
    "\n",
    "\n",
    "\n"
   ]
  },
  {
   "cell_type": "code",
   "execution_count": 1,
   "id": "fe74dc61-e915-483b-8b4c-9a7e21233f1a",
   "metadata": {
    "tags": []
   },
   "outputs": [],
   "source": [
    "import os                        # libreria para trabajar con carpetas\n",
    "import numpy as np               # análisis numerico\n",
    "import pandas as pd              # analisis con tablas\n",
    "import matplotlib.pyplot as plt  # librerias de gráficas\n",
    "import seaborn as sns            # libreria de gráficas para ciencia de datos\n",
    "\n",
    "sns.set_style(\"whitegrid\")"
   ]
  },
  {
   "cell_type": "markdown",
   "id": "09cdf037-77a1-480b-8a8a-839761704218",
   "metadata": {
    "tags": []
   },
   "source": [
    "ae = pd.read_csv(\"./serie_año1.csv\", index_col=[0], parse_dates=[0]).squeeze()\n",
    "be = pd.read_csv(\"./serie_año2.csv\", index_col=[0], parse_dates=[0]).squeeze()\n",
    "se = pd.read_csv(\"./serie_año3.csv\", index_col=[0], parse_dates=[0]).squeeze()"
   ]
  },
  {
   "cell_type": "code",
   "execution_count": 3,
   "id": "72f7e54b-bd90-4ca3-a8cb-3e0b9fa4217f",
   "metadata": {
    "tags": []
   },
   "outputs": [],
   "source": [
    "#total = pd.concat([ae, be, se])"
   ]
  },
  {
   "cell_type": "code",
   "execution_count": 4,
   "id": "7a39c4ed-b131-418d-8912-eb711b07e474",
   "metadata": {
    "tags": []
   },
   "outputs": [],
   "source": [
    "# Guardar los datos concatenados en un archivo CSV\n",
    "#total.to_csv('./serie/total.csv')\n"
   ]
  },
  {
   "cell_type": "markdown",
   "id": "4a266887-fd32-46b1-8761-b4760daa7b11",
   "metadata": {
    "tags": []
   },
   "source": [
    "total = pd.read_csv(\"./serie/total.csv\", index_col=[0], parse_dates=[0]).squeeze()"
   ]
  },
  {
   "cell_type": "markdown",
   "id": "9f91b3a9-7f84-4003-bf8e-3c340cfe325c",
   "metadata": {
    "tags": []
   },
   "source": [
    "total.head()"
   ]
  },
  {
   "cell_type": "code",
   "execution_count": null,
   "id": "787bb9f4-2fa6-4d6e-a362-863c514e35c3",
   "metadata": {
    "tags": []
   },
   "outputs": [],
   "source": [
    "# Convertir la columna de tiempo a datetime\n",
    "total['fecha'] = pd.to_datetime(total['fecha'])"
   ]
  },
  {
   "cell_type": "code",
   "execution_count": null,
   "id": "c018a6e9-51d3-4286-9878-daab82414eef",
   "metadata": {
    "tags": []
   },
   "outputs": [],
   "source": [
    "total.plot()"
   ]
  },
  {
   "cell_type": "code",
   "execution_count": null,
   "id": "85964bc7-cccc-48f2-8536-718f01f44842",
   "metadata": {},
   "outputs": [],
   "source": [
    "## Serie de parámetros\n"
   ]
  },
  {
   "cell_type": "code",
   "execution_count": 10,
   "id": "945f13ac-6f08-43ce-a715-c95e4537bf3b",
   "metadata": {
    "tags": []
   },
   "outputs": [],
   "source": [
    "data_t1 = total[\"parámetro1\"]\n"
   ]
  },
  {
   "cell_type": "markdown",
   "id": "69e4e498-59b5-40ba-8ab6-cdb909126560",
   "metadata": {
    "tags": []
   },
   "source": [
    "data_t1.head()\n"
   ]
  },
  {
   "cell_type": "code",
   "execution_count": null,
   "id": "62e67070-863b-4a93-9f78-60ebc36dfd6d",
   "metadata": {
    "tags": []
   },
   "outputs": [],
   "source": [
    "data_t7 = total[\"parámetro2\"]\n",
    "data_t7.head()\n"
   ]
  },
  {
   "cell_type": "code",
   "execution_count": null,
   "id": "0f021907-d1ec-4bc9-8966-1078f3c3b960",
   "metadata": {
    "tags": []
   },
   "outputs": [],
   "source": [
    "# Crear figura y ejes\n",
    "fig1, ax1 = plt.subplots(figsize=(12, 3.5))\n"
   ]
  },
  {
   "cell_type": "code",
   "execution_count": 14,
   "id": "8b7b8458-fec8-48ef-a9a2-58ef97042670",
   "metadata": {
    "tags": []
   },
   "outputs": [],
   "source": [
    "# Graficar la serie de tiempo del compuesto 1 en el eje izquierdo\n",
    "ax1.plot(data_t1.index, data_t1.values, color='blue', label='DO')\n",
    "#ax1.set_xlabel('Tiempo')\n",
    "#ax1.set_ylabel('', ='purple')\n",
    "ax1.tick_params(axis='y')\n"
   ]
  },
  {
   "cell_type": "code",
   "execution_count": 15,
   "id": "ff164528-1e78-420c-9577-179c291c370e",
   "metadata": {
    "tags": []
   },
   "outputs": [],
   "source": [
    "# Crear un segundo eje y graficar la serie de tiempo del compuesto 2 en el eje derecho\n",
    "ax2 = ax1.twinx()\n",
    "ax2.plot(data_t7.index, data_t7.values, color='green', label='NO3')\n",
    "#ax2.set_ylabel('', color='')\n",
    "ax2.tick_params(axis='y')\n"
   ]
  },
  {
   "cell_type": "code",
   "execution_count": 16,
   "id": "11416467-9def-4580-b7d8-c9c9e871302c",
   "metadata": {
    "tags": []
   },
   "outputs": [],
   "source": [
    "# Invertir la escala del eje derecho del compuesto 2\n",
    "ax2.invert_yaxis()\n",
    "\n",
    "# Añadir leyendas\n",
    "ax1.legend(loc='upper left')\n",
    "ax2.legend(loc='upper right')\n",
    "\n",
    "# Mostrar la gráfica\n",
    "plt.show()"
   ]
  },
  {
   "cell_type": "markdown",
   "id": "7fc95299-ff8f-4541-ba19-5c2969aabe62",
   "metadata": {
    "tags": []
   },
   "source": [
    "fig1"
   ]
  },
  {
   "cell_type": "code",
   "execution_count": 13,
   "id": "013b6cc7-a546-4de7-9cef-123eb7ab582b",
   "metadata": {
    "tags": []
   },
   "outputs": [],
   "source": [
    "fig1.savefig('.png')"
   ]
  }
 ],
 "metadata": {
  "kernelspec": {
   "display_name": "Python 3 (ipykernel)",
   "language": "python",
   "name": "python3"
  },
  "language_info": {
   "codemirror_mode": {
    "name": "ipython",
    "version": 3
   },
   "file_extension": ".py",
   "mimetype": "text/x-python",
   "name": "python",
   "nbconvert_exporter": "python",
   "pygments_lexer": "ipython3",
   "version": "3.11.4"
  }
 },
 "nbformat": 4,
 "nbformat_minor": 5
}
